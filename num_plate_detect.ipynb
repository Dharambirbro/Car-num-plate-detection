{
 "cells": [
  {
   "cell_type": "code",
   "execution_count": 5,
   "metadata": {},
   "outputs": [
    {
     "name": "stdout",
     "output_type": "stream",
     "text": [
      "hlo\n"
     ]
    }
   ],
   "source": [
    "# Car number plate detection from video\n",
    "\n",
    "\n",
    "\n",
    "import cv2\n",
    "import numpy as np\n",
    "\n",
    "\n",
    "frameWidth=640\n",
    "frameHeight=480\n",
    "nPlateCascade=cv2.CascadeClassifier(\"data/haarcascades/haarcascade_russian_plate_number.xml\")\n",
    "minArea=300\n",
    "color=(255,0,255)\n",
    "count=0\n",
    "\n",
    "\n",
    "cap=cv2.VideoCapture(1)\n",
    "cap.set(3,1000) #width\n",
    "cap.set(4,480) # height\n",
    "cap.set(10,150) # brightness\n",
    "\n",
    "while True:\n",
    "    success,img=cap.read()\n",
    "    \n",
    "\n",
    "    imgGray=cv2.cvtColor(img,cv2.COLOR_BGR2GRAY)\n",
    "\n",
    "    numberPlates=nPlateCascade.detectMultiScale(imgGray,1.1,4) #scale factor=1.1,min neighbour=4\n",
    "\n",
    "    for (x,y,w,h) in numberPlates:\n",
    "       area=w*h\n",
    "       if area>minArea:\n",
    "          cv2.rectangle(img,(x,y),(x+w,y+h),(255,0,0),2)\n",
    "          cv2.putText(img,\"Number Plate\",(x,y-5),cv2.FONT_HERSHEY_COMPLEX_SMALL,1,color,2)\n",
    "          imgReasonInterest=img[y:y+h,x:x+w]\n",
    "          cv2.imshow(\"ROI\",imgReasonInterest)\n",
    "          \n",
    "    \n",
    "    cv2.imshow('result',img)\n",
    "    if cv2.waitKey(1) & 0xFF ==ord('s'):\n",
    "       print('hlo')\n",
    "       cv2.imwrite('scanned/NoPlate_'+str(count)+\".jpg\",imgReasonInterest) #to save imgae\n",
    "       # for feedback if it is saved\n",
    "       cv2.rectangle(img,(0,200),(640,300),(0,255,0),cv2.FILLED)\n",
    "       cv2.putText(img,\"Scan saved\",(150,265),cv2.FONT_HERSHEY_COMPLEX_SMALL,1,(0,0,255),2)\n",
    "       cv2.imshow(\"result\",img)\n",
    "       cv2.waitKey(500)\n",
    "       count+=1\n",
    "   \n",
    "    \n",
    "\n",
    "     \n",
    "cap.release()\n",
    "cv2.destroyAllWindows()"
   ]
  },
  {
   "cell_type": "code",
   "execution_count": 3,
   "metadata": {},
   "outputs": [
    {
     "name": "stdout",
     "output_type": "stream",
     "text": [
      "hlo\n"
     ]
    }
   ],
   "source": [
    "# Car number plate detection from image\n",
    "\n",
    "\n",
    "\n",
    "import cv2\n",
    "import numpy as np\n",
    "\n",
    "\n",
    "frameWidth=640\n",
    "frameHeight=480\n",
    "nPlateCascade=cv2.CascadeClassifier(\"data/haarcascades/haarcascade_russian_plate_number.xml\")\n",
    "minArea=500\n",
    "color=(255,0,255)\n",
    "count=0\n",
    "\n",
    "\n",
    "img=cv2.imread('assets/plate2.jpg')\n",
    "imgGray=cv2.cvtColor(img,cv2.COLOR_BGR2GRAY)\n",
    "\n",
    "numberPlates=nPlateCascade.detectMultiScale(imgGray,1.1,4) #scale factor=1.1,min neighbour=4\n",
    "\n",
    "for (x,y,w,h) in numberPlates:\n",
    "    area=w*h\n",
    "    if area>minArea:\n",
    "        cv2.rectangle(img,(x,y),(x+w,y+h),color,2)\n",
    "        cv2.putText(img,\"Number Plate\",(x,y-5),cv2.FONT_HERSHEY_COMPLEX_SMALL,0.5,color,1)\n",
    "        imgReasonInterest=img[y:y+h,x:x+w]\n",
    "        cv2.imshow(\"ROI\",imgReasonInterest)\n",
    "          \n",
    "    \n",
    "    cv2.imshow('result',img)\n",
    "    if cv2.waitKey(0) & 0xFF ==ord('s'):\n",
    "       print('hlo')\n",
    "       cv2.imwrite('scanned/NoPlate_'+str(count)+\".jpg\",imgReasonInterest) #to save imgae\n",
    "       # for feedback if it is saved\n",
    "       cv2.rectangle(img,(0,200),(640,300),(0,255,0),cv2.FILLED)\n",
    "       cv2.putText(img,\"Scan saved\",(150,265),cv2.FONT_HERSHEY_COMPLEX_SMALL,1,(0,0,255),2)\n",
    "       cv2.imshow(\"result\",img)\n",
    "       cv2.waitKey(500)\n",
    "\n",
    "\n",
    "       count+=1\n",
    "       \n",
    "\n",
    "     \n",
    "cv2.waitKey(0)\n",
    "cv2.destroyAllWindows()"
   ]
  }
 ],
 "metadata": {
  "kernelspec": {
   "display_name": "Project_X",
   "language": "python",
   "name": "python3"
  },
  "language_info": {
   "codemirror_mode": {
    "name": "ipython",
    "version": 3
   },
   "file_extension": ".py",
   "mimetype": "text/x-python",
   "name": "python",
   "nbconvert_exporter": "python",
   "pygments_lexer": "ipython3",
   "version": "3.11.5"
  }
 },
 "nbformat": 4,
 "nbformat_minor": 2
}
